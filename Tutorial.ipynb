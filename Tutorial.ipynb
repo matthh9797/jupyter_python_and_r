{
 "cells": [
  {
   "cell_type": "markdown",
   "id": "321f5ff0-d3fc-4245-8215-c95e607896ce",
   "metadata": {},
   "source": [
    "# Jupyter Notebook - Python and R Development"
   ]
  },
  {
   "cell_type": "code",
   "execution_count": 3,
   "id": "e0cbfb91-7a59-4f65-ae5a-878b9c150815",
   "metadata": {},
   "outputs": [
    {
     "name": "stdout",
     "output_type": "stream",
     "text": [
      "The google.cloud.bigquery extension is already loaded. To reload it, use:\n",
      "  %reload_ext google.cloud.bigquery\n"
     ]
    }
   ],
   "source": [
    "# !pip install google-cloud-bigquery\n",
    "%load_ext google.cloud.bigquery"
   ]
  },
  {
   "cell_type": "markdown",
   "id": "6b57d0be-d0a2-4581-8197-239371bc79f9",
   "metadata": {},
   "source": [
    "Find the top 10 bands in terms of wikipedia views on 2021-01-01, 2021-03-01, 2021-06-01 to see if there are any seasonality effects."
   ]
  },
  {
   "cell_type": "code",
   "execution_count": 4,
   "id": "effdfb44-d711-4ac3-be1c-cac8e84cdff4",
   "metadata": {
    "tags": []
   },
   "outputs": [
    {
     "name": "stderr",
     "output_type": "stream",
     "text": [
      "Query complete after 0.01s: 100%|██████████| 3/3 [00:00<00:00, 1463.30query/s]                        \n",
      "Downloading: 100%|██████████| 96795/96795 [00:02<00:00, 46045.50rows/s] \n"
     ]
    }
   ],
   "source": [
    "# %%bigquery bands\n",
    "# SELECT      title\n",
    "#             , sum(views) as views\n",
    "#             , cast(timestamp_trunc(datehour, day) as date)   as day\n",
    "# FROM `bigquery-public-data.wikipedia.table_bands` \n",
    "# WHERE cast(datehour as date) in ('2021-01-01', '2021-03-01', '2021-06-01')\n",
    "# group by day, title\n",
    "# order by day, views desc"
   ]
  },
  {
   "cell_type": "code",
   "execution_count": null,
   "id": "260ecfa4-ade4-4e93-8677-5effa49faf7f",
   "metadata": {},
   "outputs": [],
   "source": [
    "# bands.to_csv('data/bands.csv')\n",
    "# bands = pd.read_csv('data/bands.csv')"
   ]
  },
  {
   "cell_type": "markdown",
   "id": "ea7415fc-5f27-4a2f-ae19-6aeb2217f066",
   "metadata": {},
   "source": [
    "Find the top 10 bands for each day or season"
   ]
  },
  {
   "cell_type": "code",
   "execution_count": 10,
   "id": "869cab9e-add0-49d0-a3b3-304d2f9bd5fa",
   "metadata": {},
   "outputs": [],
   "source": [
    "top10 = bands\\\n",
    "    .groupby(['day'])\\\n",
    "    .head(10)\\\n",
    "    .reset_index(drop=True)"
   ]
  },
  {
   "cell_type": "code",
   "execution_count": 12,
   "id": "0fedf451-c150-4aa0-b89a-b32cb9c9ce94",
   "metadata": {},
   "outputs": [
    {
     "name": "stdout",
     "output_type": "stream",
     "text": [
      "Collecting rpy2\n",
      "  Using cached rpy2-3.5.2.tar.gz (202 kB)\n",
      "  Preparing metadata (setup.py) ... \u001b[?25lerror\n",
      "  \u001b[1;31merror\u001b[0m: \u001b[1msubprocess-exited-with-error\u001b[0m\n",
      "  \n",
      "  \u001b[31m×\u001b[0m \u001b[32mpython setup.py egg_info\u001b[0m did not run successfully.\n",
      "  \u001b[31m│\u001b[0m exit code: \u001b[1;36m1\u001b[0m\n",
      "  \u001b[31m╰─>\u001b[0m \u001b[31m[4 lines of output]\u001b[0m\n",
      "  \u001b[31m   \u001b[0m Unable to determine R home: [Errno 2] No such file or directory: 'R': 'R'\n",
      "  \u001b[31m   \u001b[0m Unable to determine R home: [Errno 2] No such file or directory: 'R': 'R'\n",
      "  \u001b[31m   \u001b[0m Error: rpy2 in API mode cannot be built without R in the PATH or R_HOME defined. Correct this or force ABI mode-only by defining the environment variable RPY2_CFFI_MODE=ABI\n",
      "  \u001b[31m   \u001b[0m ['cffi>=1.10.0', 'jinja2', 'pytz', 'tzlocal', 'typing-extensions']\n",
      "  \u001b[31m   \u001b[0m \u001b[31m[end of output]\u001b[0m\n",
      "  \n",
      "  \u001b[1;35mnote\u001b[0m: This error originates from a subprocess, and is likely not a problem with pip.\n",
      "\u001b[1;31merror\u001b[0m: \u001b[1mmetadata-generation-failed\u001b[0m\n",
      "\n",
      "\u001b[31m×\u001b[0m Encountered error while generating package metadata.\n",
      "\u001b[31m╰─>\u001b[0m See above for output.\n",
      "\n",
      "\u001b[1;35mnote\u001b[0m: This is an issue with the package mentioned above, not pip.\n",
      "\u001b[1;36mhint\u001b[0m: See above for details.\n",
      "\u001b[?25h"
     ]
    }
   ],
   "source": [
    "!pip install rpy2\n",
    "# %load_ext rpy2.ipython"
   ]
  }
 ],
 "metadata": {
  "environment": {
   "kernel": "python3",
   "name": "common-cpu.m93",
   "type": "gcloud",
   "uri": "gcr.io/deeplearning-platform-release/base-cpu:m93"
  },
  "kernelspec": {
   "display_name": "Python 3",
   "language": "python",
   "name": "python3"
  },
  "language_info": {
   "codemirror_mode": {
    "name": "ipython",
    "version": 3
   },
   "file_extension": ".py",
   "mimetype": "text/x-python",
   "name": "python",
   "nbconvert_exporter": "python",
   "pygments_lexer": "ipython3",
   "version": "3.7.12"
  }
 },
 "nbformat": 4,
 "nbformat_minor": 5
}
